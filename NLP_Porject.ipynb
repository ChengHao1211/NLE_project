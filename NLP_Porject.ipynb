{
 "cells": [
  {
   "cell_type": "markdown",
   "id": "9b567700",
   "metadata": {},
   "source": [
    "# NLP Project\n",
    "Quora Question Pairs\n"
   ]
  },
  {
   "cell_type": "markdown",
   "id": "71858e02",
   "metadata": {},
   "source": [
    "Input the dataset:\n",
    "There have two dataset train data and test data."
   ]
  },
  {
   "cell_type": "code",
   "execution_count": 83,
   "id": "35e203aa",
   "metadata": {},
   "outputs": [
    {
     "data": {
      "text/html": [
       "<div>\n",
       "<style scoped>\n",
       "    .dataframe tbody tr th:only-of-type {\n",
       "        vertical-align: middle;\n",
       "    }\n",
       "\n",
       "    .dataframe tbody tr th {\n",
       "        vertical-align: top;\n",
       "    }\n",
       "\n",
       "    .dataframe thead th {\n",
       "        text-align: right;\n",
       "    }\n",
       "</style>\n",
       "<table border=\"1\" class=\"dataframe\">\n",
       "  <thead>\n",
       "    <tr style=\"text-align: right;\">\n",
       "      <th></th>\n",
       "      <th>id</th>\n",
       "      <th>qid1</th>\n",
       "      <th>qid2</th>\n",
       "      <th>question1</th>\n",
       "      <th>question2</th>\n",
       "      <th>is_duplicate</th>\n",
       "    </tr>\n",
       "  </thead>\n",
       "  <tbody>\n",
       "    <tr>\n",
       "      <th>0</th>\n",
       "      <td>0</td>\n",
       "      <td>1</td>\n",
       "      <td>2</td>\n",
       "      <td>What is the step by step guide to invest in sh...</td>\n",
       "      <td>What is the step by step guide to invest in sh...</td>\n",
       "      <td>0</td>\n",
       "    </tr>\n",
       "    <tr>\n",
       "      <th>1</th>\n",
       "      <td>1</td>\n",
       "      <td>3</td>\n",
       "      <td>4</td>\n",
       "      <td>What is the story of Kohinoor (Koh-i-Noor) Dia...</td>\n",
       "      <td>What would happen if the Indian government sto...</td>\n",
       "      <td>0</td>\n",
       "    </tr>\n",
       "    <tr>\n",
       "      <th>2</th>\n",
       "      <td>2</td>\n",
       "      <td>5</td>\n",
       "      <td>6</td>\n",
       "      <td>How can I increase the speed of my internet co...</td>\n",
       "      <td>How can Internet speed be increased by hacking...</td>\n",
       "      <td>0</td>\n",
       "    </tr>\n",
       "    <tr>\n",
       "      <th>3</th>\n",
       "      <td>3</td>\n",
       "      <td>7</td>\n",
       "      <td>8</td>\n",
       "      <td>Why am I mentally very lonely? How can I solve...</td>\n",
       "      <td>Find the remainder when [math]23^{24}[/math] i...</td>\n",
       "      <td>0</td>\n",
       "    </tr>\n",
       "    <tr>\n",
       "      <th>4</th>\n",
       "      <td>4</td>\n",
       "      <td>9</td>\n",
       "      <td>10</td>\n",
       "      <td>Which one dissolve in water quikly sugar, salt...</td>\n",
       "      <td>Which fish would survive in salt water?</td>\n",
       "      <td>0</td>\n",
       "    </tr>\n",
       "    <tr>\n",
       "      <th>5</th>\n",
       "      <td>5</td>\n",
       "      <td>11</td>\n",
       "      <td>12</td>\n",
       "      <td>Astrology: I am a Capricorn Sun Cap moon and c...</td>\n",
       "      <td>I'm a triple Capricorn (Sun, Moon and ascendan...</td>\n",
       "      <td>1</td>\n",
       "    </tr>\n",
       "    <tr>\n",
       "      <th>6</th>\n",
       "      <td>6</td>\n",
       "      <td>13</td>\n",
       "      <td>14</td>\n",
       "      <td>Should I buy tiago?</td>\n",
       "      <td>What keeps childern active and far from phone ...</td>\n",
       "      <td>0</td>\n",
       "    </tr>\n",
       "    <tr>\n",
       "      <th>7</th>\n",
       "      <td>7</td>\n",
       "      <td>15</td>\n",
       "      <td>16</td>\n",
       "      <td>How can I be a good geologist?</td>\n",
       "      <td>What should I do to be a great geologist?</td>\n",
       "      <td>1</td>\n",
       "    </tr>\n",
       "    <tr>\n",
       "      <th>8</th>\n",
       "      <td>8</td>\n",
       "      <td>17</td>\n",
       "      <td>18</td>\n",
       "      <td>When do you use シ instead of し?</td>\n",
       "      <td>When do you use \"&amp;\" instead of \"and\"?</td>\n",
       "      <td>0</td>\n",
       "    </tr>\n",
       "    <tr>\n",
       "      <th>9</th>\n",
       "      <td>9</td>\n",
       "      <td>19</td>\n",
       "      <td>20</td>\n",
       "      <td>Motorola (company): Can I hack my Charter Moto...</td>\n",
       "      <td>How do I hack Motorola DCX3400 for free internet?</td>\n",
       "      <td>0</td>\n",
       "    </tr>\n",
       "  </tbody>\n",
       "</table>\n",
       "</div>"
      ],
      "text/plain": [
       "   id  qid1  qid2                                          question1   \n",
       "0   0     1     2  What is the step by step guide to invest in sh...  \\\n",
       "1   1     3     4  What is the story of Kohinoor (Koh-i-Noor) Dia...   \n",
       "2   2     5     6  How can I increase the speed of my internet co...   \n",
       "3   3     7     8  Why am I mentally very lonely? How can I solve...   \n",
       "4   4     9    10  Which one dissolve in water quikly sugar, salt...   \n",
       "5   5    11    12  Astrology: I am a Capricorn Sun Cap moon and c...   \n",
       "6   6    13    14                                Should I buy tiago?   \n",
       "7   7    15    16                     How can I be a good geologist?   \n",
       "8   8    17    18                    When do you use シ instead of し?   \n",
       "9   9    19    20  Motorola (company): Can I hack my Charter Moto...   \n",
       "\n",
       "                                           question2  is_duplicate  \n",
       "0  What is the step by step guide to invest in sh...             0  \n",
       "1  What would happen if the Indian government sto...             0  \n",
       "2  How can Internet speed be increased by hacking...             0  \n",
       "3  Find the remainder when [math]23^{24}[/math] i...             0  \n",
       "4            Which fish would survive in salt water?             0  \n",
       "5  I'm a triple Capricorn (Sun, Moon and ascendan...             1  \n",
       "6  What keeps childern active and far from phone ...             0  \n",
       "7          What should I do to be a great geologist?             1  \n",
       "8              When do you use \"&\" instead of \"and\"?             0  \n",
       "9  How do I hack Motorola DCX3400 for free internet?             0  "
      ]
     },
     "execution_count": 83,
     "metadata": {},
     "output_type": "execute_result"
    }
   ],
   "source": [
    "import numpy as np \n",
    "import pandas as pd \n",
    "\n",
    "\n",
    "train_df = pd.read_csv(\"train.csv\")\n",
    "train_df.head(10)"
   ]
  },
  {
   "cell_type": "code",
   "execution_count": 84,
   "id": "931cac8f",
   "metadata": {},
   "outputs": [
    {
     "name": "stderr",
     "output_type": "stream",
     "text": [
      "/scratch/local/ipykernel_25779/3092447787.py:1: DtypeWarning: Columns (0) have mixed types. Specify dtype option on import or set low_memory=False.\n",
      "  test_df = pd.read_csv(\"test.csv\")\n"
     ]
    },
    {
     "data": {
      "text/html": [
       "<div>\n",
       "<style scoped>\n",
       "    .dataframe tbody tr th:only-of-type {\n",
       "        vertical-align: middle;\n",
       "    }\n",
       "\n",
       "    .dataframe tbody tr th {\n",
       "        vertical-align: top;\n",
       "    }\n",
       "\n",
       "    .dataframe thead th {\n",
       "        text-align: right;\n",
       "    }\n",
       "</style>\n",
       "<table border=\"1\" class=\"dataframe\">\n",
       "  <thead>\n",
       "    <tr style=\"text-align: right;\">\n",
       "      <th></th>\n",
       "      <th>test_id</th>\n",
       "      <th>question1</th>\n",
       "      <th>question2</th>\n",
       "    </tr>\n",
       "  </thead>\n",
       "  <tbody>\n",
       "    <tr>\n",
       "      <th>0</th>\n",
       "      <td>0</td>\n",
       "      <td>How does the Surface Pro himself 4 compare wit...</td>\n",
       "      <td>Why did Microsoft choose core m3 and not core ...</td>\n",
       "    </tr>\n",
       "    <tr>\n",
       "      <th>1</th>\n",
       "      <td>1</td>\n",
       "      <td>Should I have a hair transplant at age 24? How...</td>\n",
       "      <td>How much cost does hair transplant require?</td>\n",
       "    </tr>\n",
       "    <tr>\n",
       "      <th>2</th>\n",
       "      <td>2</td>\n",
       "      <td>What but is the best way to send money from Ch...</td>\n",
       "      <td>What you send money to China?</td>\n",
       "    </tr>\n",
       "    <tr>\n",
       "      <th>3</th>\n",
       "      <td>3</td>\n",
       "      <td>Which food not emulsifiers?</td>\n",
       "      <td>What foods fibre?</td>\n",
       "    </tr>\n",
       "    <tr>\n",
       "      <th>4</th>\n",
       "      <td>4</td>\n",
       "      <td>How \"aberystwyth\" start reading?</td>\n",
       "      <td>How their can I start reading?</td>\n",
       "    </tr>\n",
       "    <tr>\n",
       "      <th>5</th>\n",
       "      <td>5</td>\n",
       "      <td>How are the two wheeler insurance from Bharti ...</td>\n",
       "      <td>I admire I am considering of buying insurance ...</td>\n",
       "    </tr>\n",
       "    <tr>\n",
       "      <th>6</th>\n",
       "      <td>6</td>\n",
       "      <td>How can I reduce my belly fat through a diet?</td>\n",
       "      <td>How can I reduce my lower belly fat in one month?</td>\n",
       "    </tr>\n",
       "    <tr>\n",
       "      <th>7</th>\n",
       "      <td>7</td>\n",
       "      <td>By scrapping the 500 and 1000 rupee notes, how...</td>\n",
       "      <td>How will the recent move to declare 500 and 10...</td>\n",
       "    </tr>\n",
       "    <tr>\n",
       "      <th>8</th>\n",
       "      <td>8</td>\n",
       "      <td>What are the how best books of all time?</td>\n",
       "      <td>What are some of the military history books of...</td>\n",
       "    </tr>\n",
       "    <tr>\n",
       "      <th>9</th>\n",
       "      <td>9</td>\n",
       "      <td>After 12th years old boy and I had sex with a ...</td>\n",
       "      <td>Can a 14 old guy date a 12 year old girl?</td>\n",
       "    </tr>\n",
       "  </tbody>\n",
       "</table>\n",
       "</div>"
      ],
      "text/plain": [
       "  test_id                                          question1   \n",
       "0       0  How does the Surface Pro himself 4 compare wit...  \\\n",
       "1       1  Should I have a hair transplant at age 24? How...   \n",
       "2       2  What but is the best way to send money from Ch...   \n",
       "3       3                        Which food not emulsifiers?   \n",
       "4       4                   How \"aberystwyth\" start reading?   \n",
       "5       5  How are the two wheeler insurance from Bharti ...   \n",
       "6       6      How can I reduce my belly fat through a diet?   \n",
       "7       7  By scrapping the 500 and 1000 rupee notes, how...   \n",
       "8       8           What are the how best books of all time?   \n",
       "9       9  After 12th years old boy and I had sex with a ...   \n",
       "\n",
       "                                           question2  \n",
       "0  Why did Microsoft choose core m3 and not core ...  \n",
       "1        How much cost does hair transplant require?  \n",
       "2                      What you send money to China?  \n",
       "3                                  What foods fibre?  \n",
       "4                     How their can I start reading?  \n",
       "5  I admire I am considering of buying insurance ...  \n",
       "6  How can I reduce my lower belly fat in one month?  \n",
       "7  How will the recent move to declare 500 and 10...  \n",
       "8  What are some of the military history books of...  \n",
       "9          Can a 14 old guy date a 12 year old girl?  "
      ]
     },
     "execution_count": 84,
     "metadata": {},
     "output_type": "execute_result"
    }
   ],
   "source": [
    "test_df = pd.read_csv(\"test.csv\")\n",
    "test_df.head(10)"
   ]
  },
  {
   "cell_type": "markdown",
   "id": "bc19fbb4",
   "metadata": {},
   "source": [
    "Improt all the libaries that we will need in this project"
   ]
  },
  {
   "cell_type": "code",
   "execution_count": 51,
   "id": "4ad20068",
   "metadata": {},
   "outputs": [
    {
     "name": "stdout",
     "output_type": "stream",
     "text": [
      "cuda\n"
     ]
    }
   ],
   "source": [
    "import torch\n",
    "import torch.nn as nn\n",
    "\n",
    "# !pip install seaborn\n",
    "import seaborn as sns\n",
    "import matplotlib.pyplot as plt\n",
    "\n",
    "# !pip install tqdm\n",
    "from tqdm import tqdm\n",
    "\n",
    "\n",
    "from sklearn.model_selection import train_test_split\n",
    "\n",
    "# !pip install -c conda-forge transformers\n",
    "import transformers\n",
    "from transformers import BertModel, BertTokenizer, AdamW, get_linear_schedule_with_warmup\n",
    "transformers.logging.set_verbosity_error()\n",
    "\n",
    "\n",
    "\n",
    "device = torch.device(\"cuda\" if torch.cuda.is_available() else \"cpu\")\n",
    "print(device)\n",
    "\n",
    "SEED = 1024\n",
    "\n",
    "np.random.seed(SEED)\n",
    "torch.manual_seed(SEED)\n",
    "torch.cuda.manual_seed(SEED)\n",
    "torch.backends.cudnn.deterministic = True"
   ]
  },
  {
   "cell_type": "markdown",
   "id": "c719de1a",
   "metadata": {},
   "source": [
    "# Data Analysis"
   ]
  },
  {
   "cell_type": "markdown",
   "id": "7f82ac61",
   "metadata": {},
   "source": [
    "## Sentence length setect\n",
    "Do some analsis and remove some of the missing values, because the data is text. Then check the length of the data."
   ]
  },
  {
   "cell_type": "code",
   "execution_count": 52,
   "id": "5695d514",
   "metadata": {},
   "outputs": [
    {
     "name": "stdout",
     "output_type": "stream",
     "text": [
      "<class 'pandas.core.frame.DataFrame'>\n",
      "RangeIndex: 404290 entries, 0 to 404289\n",
      "Data columns (total 6 columns):\n",
      " #   Column        Non-Null Count   Dtype \n",
      "---  ------        --------------   ----- \n",
      " 0   id            404290 non-null  int64 \n",
      " 1   qid1          404290 non-null  int64 \n",
      " 2   qid2          404290 non-null  int64 \n",
      " 3   question1     404289 non-null  object\n",
      " 4   question2     404288 non-null  object\n",
      " 5   is_duplicate  404290 non-null  int64 \n",
      "dtypes: int64(4), object(2)\n",
      "memory usage: 18.5+ MB\n"
     ]
    },
    {
     "data": {
      "text/plain": [
       "<Axes: ylabel='Count'>"
      ]
     },
     "execution_count": 52,
     "metadata": {},
     "output_type": "execute_result"
    },
    {
     "data": {
      "image/png": "[encoded data removed]",
      "text/plain": [
       "<Figure size 640x480 with 1 Axes>"
      ]
     },
     "metadata": {},
     "output_type": "display_data"
    }
   ],
   "source": [
    "train_df.info()\n",
    "\n",
    "train_df.dropna(inplace=True)\n",
    "train_sentences_lens = train_df['question1'].apply(lambda x: len(x.split(' '))).tolist()\n",
    "train_sentences_lens.extend(train_df['question2'].apply(lambda x: len(x.split(' '))).tolist())\n",
    "sns.histplot(train_sentences_lens)\n"
   ]
  },
  {
   "cell_type": "markdown",
   "id": "50efa005",
   "metadata": {},
   "source": [
    "From the graph you can see that most the data are all under 50 words in every sentence."
   ]
  },
  {
   "cell_type": "markdown",
   "id": "6dd7745e",
   "metadata": {},
   "source": [
    "So we can set 50 as the maximun lenth of the sentence."
   ]
  },
  {
   "cell_type": "code",
   "execution_count": 53,
   "id": "56436ce6",
   "metadata": {},
   "outputs": [],
   "source": [
    "MaximunLen = 50"
   ]
  },
  {
   "cell_type": "markdown",
   "id": "bf66eb2c",
   "metadata": {},
   "source": [
    "## Number of the sentences\n",
    "Let see how many different questions are in the data"
   ]
  },
  {
   "cell_type": "code",
   "execution_count": 54,
   "id": "7b7085ee",
   "metadata": {},
   "outputs": [
    {
     "name": "stdout",
     "output_type": "stream",
     "text": [
      "Unique Questions number: 537359\n",
      "\n"
     ]
    }
   ],
   "source": [
    "qids = pd.Series(list(train_df['question1']) + list(train_df['question2']))\n",
    "\n",
    "print ('Unique Questions number: {}\\n'.format(len(np.unique(qids))))\n"
   ]
  },
  {
   "cell_type": "markdown",
   "id": "724c94e5",
   "metadata": {},
   "source": [
    "## Analysis the duplicate and similar\n",
    "Let see the percentage of duplicate and similar in the train data by analysis the duplicate in the train data."
   ]
  },
  {
   "cell_type": "code",
   "execution_count": 55,
   "id": "6e8d8a50",
   "metadata": {},
   "outputs": [
    {
     "data": {
      "image/png": "[encoded data removed]",
      "text/plain": [
       "<Figure size 640x480 with 1 Axes>"
      ]
     },
     "metadata": {},
     "output_type": "display_data"
    }
   ],
   "source": [
    "def pie_chart(similar_questions_num, different_questions_num, graph_title):\n",
    "    labels = 'Similiar', 'Different'\n",
    "    sizes = [similar_questions_num, different_questions_num]\n",
    "\n",
    "    fig1, ax1 = plt.subplots()\n",
    "    ax1.set_title(graph_title)\n",
    "    ax1.pie(sizes, labels=labels, autopct='%1.2f%%', startangle=90)\n",
    "\n",
    "    plt.show()\n",
    "\n",
    "similar_samples_num = sum(train_df['is_duplicate'].values)\n",
    "pie_chart(similar_samples_num, len(train_df['is_duplicate']) - similar_samples_num, 'train set')"
   ]
  },
  {
   "cell_type": "markdown",
   "id": "2f43957d",
   "metadata": {},
   "source": [
    "## Same sentence detect\n",
    "Let see if there's any paired quesions that are exacte the same."
   ]
  },
  {
   "cell_type": "code",
   "execution_count": 56,
   "id": "f7f2e8af",
   "metadata": {},
   "outputs": [
    {
     "name": "stdout",
     "output_type": "stream",
     "text": [
      "Number of duplicate questions :  0\n"
     ]
    }
   ],
   "source": [
    "duplicate_rows = train_df[train_df.duplicated(['qid1','qid2'])]\n",
    "print (\"Number of duplicate questions : \", len(duplicate_rows))"
   ]
  },
  {
   "cell_type": "markdown",
   "id": "a78b9a91",
   "metadata": {},
   "source": [
    "## Shared words detect\n",
    "Let analysis if there's shared words in both question1 and question2."
   ]
  },
  {
   "cell_type": "code",
   "execution_count": 57,
   "id": "97fb9d9f",
   "metadata": {},
   "outputs": [
    {
     "data": {
      "image/png": "[encoded data removed]",
      "text/plain": [
       "<Figure size 1500x1000 with 1 Axes>"
      ]
     },
     "metadata": {},
     "output_type": "display_data"
    }
   ],
   "source": [
    "def shared_words(row):\n",
    "    q1_word_set = set(map(lambda word: word.lower().strip(), row['question1'].split(\" \")))\n",
    "    q2_word_set = set(map(lambda word: word.lower().strip(), row['question2'].split(\" \")))    \n",
    "    return 1.0 * len(q1_word_set & q2_word_set) / (len(q1_word_set) + len(q2_word_set))    \n",
    "\n",
    "train_df['shared_words'] = train_df.apply(shared_words, axis=1)\n",
    "plt.figure(figsize=(15, 10))\n",
    "\n",
    "plt.subplot(1,2,2)\n",
    "sns.histplot(train_df[train_df['is_duplicate'] == 1]['shared_words'][0:] , label = \"1\", color = 'red')\n",
    "sns.histplot(train_df[train_df['is_duplicate'] == 0]['shared_words'][0:] , label = \"0\" , color = 'blue' )\n",
    "\n",
    "\n",
    "plt.show()"
   ]
  },
  {
   "cell_type": "markdown",
   "id": "d87d84f3",
   "metadata": {},
   "source": [
    "It seems that both question1 and question2 have shared words in the questions."
   ]
  },
  {
   "cell_type": "markdown",
   "id": "e75b22a4",
   "metadata": {},
   "source": [
    "## load pretrain module\n",
    "Let load the pretrain module and splite the data to training data and validation"
   ]
  },
  {
   "cell_type": "code",
   "execution_count": 58,
   "id": "6019b6e5",
   "metadata": {},
   "outputs": [],
   "source": [
    "BERT_VERSION = 'bert-base-uncased'\n",
    "POOLED_OUTPUT_DIM = 768 \n",
    "tokenizer = BertTokenizer.from_pretrained(BERT_VERSION)\n",
    "\n",
    "train_df, val_df = train_test_split(train_df, test_size=0.1)\n",
    "train_df = train_df.reset_index(drop=True)\n",
    "val_df = val_df.reset_index(drop=True)"
   ]
  },
  {
   "cell_type": "markdown",
   "id": "8714ac03",
   "metadata": {},
   "source": [
    "Make a class easier to load the pretrain model. For the pretrain model we tokenize every sentence using the tokenizer(BertTokenizer.from_pretrained(bert-base-uncased)) and return a dictionary containing the input IDs, attention mask, token type IDs, and the target label.\n",
    "Using \"torch.utils.data.DataLoader\" with the batch size and shuffle setting."
   ]
  },
  {
   "cell_type": "code",
   "execution_count": 59,
   "id": "4327d2b5",
   "metadata": {},
   "outputs": [],
   "source": [
    "class BertDataSet:\n",
    "    def __init__(self, questions1, questions2, targets, tokenizer):\n",
    "        self.questions1 = questions1\n",
    "        self.questions2 = questions2\n",
    "        self.targets = targets\n",
    "        self.tokenizer = tokenizer\n",
    "        self.length = len(questions1)\n",
    "        \n",
    "    def __len__(self):\n",
    "        return self.length\n",
    "\n",
    "    def __getitem__(self, item):\n",
    "        questions1 = str(self.questions1[item])\n",
    "        questions2 = str(self.questions2[item])\n",
    "\n",
    "        questions1 = \" \".join(questions1.split())\n",
    "        questions2 = \" \".join(questions2.split())\n",
    "\n",
    "        \n",
    "        inputs = self.tokenizer.encode_plus(\n",
    "            questions1,\n",
    "            questions2,\n",
    "            add_special_tokens=True,\n",
    "            padding='max_length',\n",
    "            max_length=2 * MaximunLen + 3, # max length of 2 questions and 3 special tokens\n",
    "            truncation=True   \n",
    "        )\n",
    "        \n",
    "        return {\n",
    "            \"ids\": torch.tensor(inputs[\"input_ids\"], dtype=torch.long),\n",
    "            \"mask\": torch.tensor(inputs[\"attention_mask\"], dtype=torch.long),\n",
    "            \"token_type_ids\": torch.tensor(inputs[\"token_type_ids\"], dtype=torch.long),\n",
    "            \"targets\": torch.tensor(int(self.targets[item]), dtype=torch.long) if self.targets is not None else 0\n",
    "        }\n",
    "\n",
    "def get_data_loader(dataset, targets, batch_size, shuffle, tokenizer):\n",
    "    dataset = BertDataSet(\n",
    "        questions1=dataset[\"question1\"].values,\n",
    "        questions2=dataset[\"question2\"].values,\n",
    "        targets=targets,\n",
    "        tokenizer=tokenizer\n",
    "    )\n",
    "\n",
    "    # print(dataset)\n",
    "    \n",
    "    data_loader = torch.utils.data.DataLoader(\n",
    "        dataset,\n",
    "        batch_size = batch_size,\n",
    "        shuffle=shuffle\n",
    "    )\n",
    "    \n",
    "    return data_loader\n",
    "\n",
    "batchsize = 256\n",
    "\n",
    "train_data_loader = get_data_loader(\n",
    "    dataset=train_df,\n",
    "    targets=train_df[\"is_duplicate\"].values,\n",
    "    batch_size=batchsize,\n",
    "    shuffle=True,\n",
    "    tokenizer=tokenizer\n",
    ")\n",
    "\n",
    "val_data_loader = get_data_loader(\n",
    "    dataset=val_df,\n",
    "    targets=val_df[\"is_duplicate\"].values,\n",
    "    batch_size=4 * batchsize,\n",
    "    shuffle=True,\n",
    "    tokenizer=tokenizer\n",
    ")\n"
   ]
  },
  {
   "cell_type": "code",
   "execution_count": 60,
   "id": "9675fe36",
   "metadata": {},
   "outputs": [
    {
     "name": "stdout",
     "output_type": "stream",
     "text": [
      "Batch data:\n",
      "Input IDs: tensor([[  101,  1045,  2215,  ...,     0,     0,     0],\n",
      "        [  101,  2339,  2003,  ...,     0,     0,     0],\n",
      "        [  101,  2129,  2079,  ...,     0,     0,     0],\n",
      "        ...,\n",
      "        [  101,  2129,  2079,  ...,     0,     0,     0],\n",
      "        [  101,  2129,  2097,  ...,     0,     0,     0],\n",
      "        [  101, 22817, 14181,  ...,     0,     0,     0]])\n",
      "Attention Mask: tensor([[1, 1, 1,  ..., 0, 0, 0],\n",
      "        [1, 1, 1,  ..., 0, 0, 0],\n",
      "        [1, 1, 1,  ..., 0, 0, 0],\n",
      "        ...,\n",
      "        [1, 1, 1,  ..., 0, 0, 0],\n",
      "        [1, 1, 1,  ..., 0, 0, 0],\n",
      "        [1, 1, 1,  ..., 0, 0, 0]])\n",
      "Token Type IDs: tensor([[0, 0, 0,  ..., 0, 0, 0],\n",
      "        [0, 0, 0,  ..., 0, 0, 0],\n",
      "        [0, 0, 0,  ..., 0, 0, 0],\n",
      "        ...,\n",
      "        [0, 0, 0,  ..., 0, 0, 0],\n",
      "        [0, 0, 0,  ..., 0, 0, 0],\n",
      "        [0, 0, 0,  ..., 0, 0, 0]])\n",
      "Targets: tensor([1, 0, 0, 1, 0, 1, 1, 0, 0, 0, 0, 1, 0, 0, 0, 0, 0, 1, 0, 0, 0, 0, 1, 1,\n",
      "        0, 0, 0, 0, 0, 0, 1, 0, 1, 1, 0, 1, 0, 1, 0, 1, 0, 0, 0, 0, 0, 0, 0, 1,\n",
      "        0, 0, 1, 0, 1, 1, 0, 0, 1, 0, 0, 0, 0, 0, 0, 1, 1, 0, 1, 0, 0, 1, 1, 0,\n",
      "        0, 0, 1, 0, 0, 0, 0, 0, 1, 1, 1, 0, 1, 0, 1, 0, 0, 1, 0, 0, 1, 0, 0, 1,\n",
      "        1, 1, 0, 1, 0, 0, 1, 0, 0, 1, 0, 1, 0, 1, 0, 0, 0, 0, 1, 0, 1, 0, 1, 1,\n",
      "        0, 1, 0, 0, 0, 1, 0, 1, 1, 0, 0, 0, 0, 0, 1, 0, 1, 0, 1, 0, 0, 1, 1, 0,\n",
      "        0, 0, 0, 1, 0, 0, 1, 0, 0, 0, 0, 0, 0, 1, 1, 0, 0, 1, 0, 1, 0, 0, 0, 0,\n",
      "        0, 1, 0, 0, 0, 0, 0, 0, 0, 1, 0, 1, 1, 0, 1, 0, 0, 1, 0, 0, 1, 1, 0, 0,\n",
      "        1, 0, 0, 0, 0, 0, 1, 1, 0, 1, 0, 0, 1, 0, 0, 1, 0, 1, 1, 1, 0, 1, 1, 1,\n",
      "        1, 0, 1, 0, 1, 0, 0, 1, 0, 1, 0, 0, 0, 0, 1, 0, 0, 1, 0, 0, 1, 0, 0, 1,\n",
      "        0, 1, 0, 1, 0, 0, 1, 1, 0, 1, 0, 0, 1, 0, 1, 0])\n",
      "Batch data:\n",
      "Input IDs: tensor([[ 101, 2064, 4286,  ...,    0,    0,    0],\n",
      "        [ 101, 2054, 2024,  ...,    0,    0,    0],\n",
      "        [ 101, 2054, 2003,  ...,    0,    0,    0],\n",
      "        ...,\n",
      "        [ 101, 2073, 2064,  ...,    0,    0,    0],\n",
      "        [ 101, 2129, 2064,  ...,    0,    0,    0],\n",
      "        [ 101, 2129, 2079,  ...,    0,    0,    0]])\n",
      "Attention Mask: tensor([[1, 1, 1,  ..., 0, 0, 0],\n",
      "        [1, 1, 1,  ..., 0, 0, 0],\n",
      "        [1, 1, 1,  ..., 0, 0, 0],\n",
      "        ...,\n",
      "        [1, 1, 1,  ..., 0, 0, 0],\n",
      "        [1, 1, 1,  ..., 0, 0, 0],\n",
      "        [1, 1, 1,  ..., 0, 0, 0]])\n",
      "Token Type IDs: tensor([[0, 0, 0,  ..., 0, 0, 0],\n",
      "        [0, 0, 0,  ..., 0, 0, 0],\n",
      "        [0, 0, 0,  ..., 0, 0, 0],\n",
      "        ...,\n",
      "        [0, 0, 0,  ..., 0, 0, 0],\n",
      "        [0, 0, 0,  ..., 0, 0, 0],\n",
      "        [0, 0, 0,  ..., 0, 0, 0]])\n",
      "Targets: tensor([1, 1, 0,  ..., 0, 1, 1])\n"
     ]
    }
   ],
   "source": [
    "# Print a batch of data from the training data loader\n",
    "for batch in train_data_loader:\n",
    "    print(\"Batch data:\")\n",
    "    print(\"Input IDs:\", batch[\"ids\"])\n",
    "    print(\"Attention Mask:\", batch[\"mask\"])\n",
    "    print(\"Token Type IDs:\", batch[\"token_type_ids\"])\n",
    "    print(\"Targets:\", batch[\"targets\"])\n",
    "    break  # Print only the first batch for brevity\n",
    "\n",
    "# Print a batch of data from the validation data loader\n",
    "for batch in val_data_loader:\n",
    "    print(\"Batch data:\")\n",
    "    print(\"Input IDs:\", batch[\"ids\"])\n",
    "    print(\"Attention Mask:\", batch[\"mask\"])\n",
    "    print(\"Token Type IDs:\", batch[\"token_type_ids\"])\n",
    "    print(\"Targets:\", batch[\"targets\"])\n",
    "    break  # Print only the first batch for brevity\n"
   ]
  },
  {
   "cell_type": "markdown",
   "id": "5248fbc3",
   "metadata": {},
   "source": [
    "## Bert trainning model\n",
    "I make a class for the trainning model. The model is still bert-base-uncased.\n",
    "In the trainning I calculate the validation from the function \"calculate_perplexity\". And calculate the trainning loss in the \"train_loop\". \n",
    "I traing with 5 epoch and Learning Rate(lr) is 3e-5 and the batch is depend on the data, it'll be 1422 in this case."
   ]
  },
  {
   "cell_type": "code",
   "execution_count": 69,
   "id": "336cab38",
   "metadata": {},
   "outputs": [],
   "source": [
    "class BertModel(nn.Module):\n",
    "    def __init__(self, bert_path):\n",
    "        super(BertModel, self).__init__()\n",
    "        self.bert_path = bert_path\n",
    "        self.bert = transformers.BertModel.from_pretrained(self.bert_path)\n",
    "        self.dropout = nn.Dropout(0.3)\n",
    "        self.out = nn.Linear(POOLED_OUTPUT_DIM, 1)\n",
    "\n",
    "    def forward(self, ids, mask, token_type_ids):\n",
    "        _, pooled = self.bert(ids, attention_mask=mask,token_type_ids=token_type_ids,return_dict=False)\n",
    "        \n",
    "        # add dropout to prevent overfitting.\n",
    "        pooled = self.dropout(pooled) \n",
    "        return self.out(pooled)\n",
    "\n",
    "model = BertModel(BERT_VERSION).to(device)\n",
    "\n",
    "def loss_fn(outputs, targets):\n",
    "    outputs = torch.squeeze(outputs)\n",
    "    return nn.BCELoss()(nn.Sigmoid()(outputs), targets)\n",
    "\n",
    "\n",
    "def calculate_perplexity(data_loader, model, device):\n",
    "    model.eval()\n",
    "    \n",
    "    with torch.no_grad():\n",
    "        total_loss = 0\n",
    "        for batch in data_loader:\n",
    "            ids = batch[\"ids\"].to(device, dtype=torch.long)\n",
    "            mask = batch[\"mask\"].to(device, dtype=torch.long)\n",
    "            token_type_ids = batch[\"token_type_ids\"].to(device, dtype=torch.long)\n",
    "            targets = batch[\"targets\"].to(device, dtype=torch.float)\n",
    "\n",
    "            outputs = model(ids=ids, mask=mask, token_type_ids=token_type_ids)\n",
    "            total_loss += loss_fn(outputs, targets).item()\n",
    "                   \n",
    "\n",
    "    model.train()\n",
    "\n",
    "    return np.exp(total_loss / len(data_loader))\n"
   ]
  },
  {
   "cell_type": "code",
   "execution_count": 65,
   "id": "92b650bc",
   "metadata": {},
   "outputs": [],
   "source": [
    "def train_loop(epochs, train_data_loader, val_data_loader, model, optimizer, device, scheduler=None):\n",
    "    it = 1\n",
    "    total_loss = 0\n",
    "    curr_perplexity = None\n",
    "    perplexity = None\n",
    "    \n",
    "    model.train()\n",
    "    for epoch in range(epochs):\n",
    "        print('Epoch: ', epoch + 1)\n",
    "        for batch in train_data_loader:\n",
    "            ids = batch[\"ids\"].to(device, dtype=torch.long)\n",
    "            mask = batch[\"mask\"].to(device, dtype=torch.long)\n",
    "            token_type_ids = batch[\"token_type_ids\"].to(device, dtype=torch.long)\n",
    "            targets = batch[\"targets\"].to(device, dtype=torch.float)\n",
    "\n",
    "            optimizer.zero_grad()\n",
    "            \n",
    "            outputs = model(ids, mask=mask, token_type_ids=token_type_ids)\n",
    "            \n",
    "            loss = loss_fn(outputs, targets)\n",
    "            total_loss += loss.item()\n",
    "            \n",
    "            loss.backward()\n",
    "            \n",
    "            optimizer.step()\n",
    "           \n",
    "            if it % 100 == 0:\n",
    "            \n",
    "                if it % 100 == 0:\n",
    "                    curr_perplexity = calculate_perplexity(val_data_loader, model, device)\n",
    "                    \n",
    "                    if scheduler is not None:\n",
    "                        scheduler.step()\n",
    "                        \n",
    "                    if not perplexity or curr_perplexity < perplexity:\n",
    "                        torch.save(model.state_dict(), 'uncased_model')\n",
    "                        perplexity = curr_perplexity\n",
    "                        \n",
    "                avg_train_loss = total_loss / 100\n",
    "                print('| Iter', it, '| Avg Train Loss', avg_train_loss, '| Dev Perplexity', curr_perplexity)\n",
    "                total_loss = 0\n",
    "                \n",
    "            it += 1\n"
   ]
  },
  {
   "cell_type": "code",
   "execution_count": 66,
   "id": "21bc521e",
   "metadata": {},
   "outputs": [],
   "source": [
    "def run(model, train_df, device, train_data_loader, val_data_loader):\n",
    "    EPOCHS = 5\n",
    "    \n",
    "    lr = 3e-5\n",
    "    num_training_steps = int(len(train_data_loader) * EPOCHS)\n",
    "    optimizer = AdamW(model.parameters(), lr=lr)\n",
    "    scheduler = get_linear_schedule_with_warmup(\n",
    "        optimizer,\n",
    "        num_warmup_steps=0,\n",
    "        num_training_steps=num_training_steps\n",
    "    )\n",
    "    \n",
    "    \n",
    "    train_loop(EPOCHS, train_data_loader, val_data_loader,  model, optimizer, device, scheduler)"
   ]
  },
  {
   "cell_type": "code",
   "execution_count": null,
   "id": "ef821009",
   "metadata": {},
   "outputs": [
    {
     "name": "stdout",
     "output_type": "stream",
     "text": [
      "Epoch:  1\n",
      "| Iter 100 | Avg Train Loss 0.36829567819833753 | Dev Perplexity 1.4120122640005845\n",
      "| Iter 200 | Avg Train Loss 0.3381352695822716 | Dev Perplexity 1.3721972345022608\n",
      "| Iter 300 | Avg Train Loss 0.3211359757184982 | Dev Perplexity 1.3528421891209148\n",
      "| Iter 400 | Avg Train Loss 0.30819258719682696 | Dev Perplexity 1.348373891179349\n",
      "| Iter 500 | Avg Train Loss 0.2963800723850727 | Dev Perplexity 1.3360203537585158\n",
      "| Iter 600 | Avg Train Loss 0.2925376646220684 | Dev Perplexity 1.3239872664429344\n",
      "| Iter 700 | Avg Train Loss 0.2911820366978645 | Dev Perplexity 1.314145187190489\n",
      "| Iter 800 | Avg Train Loss 0.27900337100028993 | Dev Perplexity 1.3095773829700192\n",
      "| Iter 900 | Avg Train Loss 0.2798917533457279 | Dev Perplexity 1.306145566351985\n",
      "| Iter 1000 | Avg Train Loss 0.270376580953598 | Dev Perplexity 1.2979141196432822\n",
      "| Iter 1100 | Avg Train Loss 0.27087289914488794 | Dev Perplexity 1.2886162475338117\n",
      "| Iter 1200 | Avg Train Loss 0.26712505251169205 | Dev Perplexity 1.2872292195886537\n",
      "| Iter 1300 | Avg Train Loss 0.25675598174333575 | Dev Perplexity 1.286855010220885\n",
      "| Iter 1400 | Avg Train Loss 0.2632251465320587 | Dev Perplexity 1.285382129592646\n",
      "Epoch:  2\n",
      "| Iter 1500 | Avg Train Loss 0.21187697798013688 | Dev Perplexity 1.3027514232007777\n",
      "| Iter 1600 | Avg Train Loss 0.20087177976965903 | Dev Perplexity 1.299492248568548\n",
      "| Iter 1700 | Avg Train Loss 0.1987794154882431 | Dev Perplexity 1.2931570683563351\n",
      "| Iter 1800 | Avg Train Loss 0.20839653804898262 | Dev Perplexity 1.281011118029976\n",
      "| Iter 1900 | Avg Train Loss 0.1985697226971388 | Dev Perplexity 1.2865214770000386\n",
      "| Iter 2000 | Avg Train Loss 0.20348570063710214 | Dev Perplexity 1.2887211708688748\n",
      "| Iter 2100 | Avg Train Loss 0.20060012213885783 | Dev Perplexity 1.2815224735560198\n",
      "| Iter 2200 | Avg Train Loss 0.20151239439845084 | Dev Perplexity 1.29382032693324\n",
      "| Iter 2300 | Avg Train Loss 0.2063349275290966 | Dev Perplexity 1.2850843984779081\n",
      "| Iter 2400 | Avg Train Loss 0.20045267537236214 | Dev Perplexity 1.271295395787928\n",
      "| Iter 2500 | Avg Train Loss 0.19793185651302336 | Dev Perplexity 1.2637406444198838\n",
      "| Iter 2600 | Avg Train Loss 0.20109166100621223 | Dev Perplexity 1.2683278467206005\n",
      "| Iter 2700 | Avg Train Loss 0.19652054473757744 | Dev Perplexity 1.2764406470499228\n",
      "| Iter 2800 | Avg Train Loss 0.19746943041682244 | Dev Perplexity 1.25973205004758\n",
      "Epoch:  3\n",
      "| Iter 2900 | Avg Train Loss 0.16369759269058703 | Dev Perplexity 1.2988296159261665\n",
      "| Iter 3000 | Avg Train Loss 0.12882721684873105 | Dev Perplexity 1.315278786893628\n",
      "| Iter 3100 | Avg Train Loss 0.13978601343929767 | Dev Perplexity 1.2807825863982218\n",
      "| Iter 3200 | Avg Train Loss 0.14280287779867648 | Dev Perplexity 1.2964690222779\n",
      "| Iter 3300 | Avg Train Loss 0.14395317144691944 | Dev Perplexity 1.2880472444007434\n",
      "| Iter 3400 | Avg Train Loss 0.14173469074070455 | Dev Perplexity 1.3131398353599946\n",
      "| Iter 3500 | Avg Train Loss 0.13765326619148255 | Dev Perplexity 1.2874283632855579\n",
      "| Iter 3600 | Avg Train Loss 0.1436265441030264 | Dev Perplexity 1.2947307043835015\n",
      "| Iter 3700 | Avg Train Loss 0.14438357159495355 | Dev Perplexity 1.3062692766629476\n",
      "| Iter 3800 | Avg Train Loss 0.14045793779194354 | Dev Perplexity 1.2831423587950392\n",
      "| Iter 3900 | Avg Train Loss 0.14135093294084072 | Dev Perplexity 1.2848301479259066\n",
      "| Iter 4000 | Avg Train Loss 0.14149232521653177 | Dev Perplexity 1.2927518996387457\n",
      "| Iter 4100 | Avg Train Loss 0.1408506341278553 | Dev Perplexity 1.2836576317635\n",
      "| Iter 4200 | Avg Train Loss 0.14435828544199467 | Dev Perplexity 1.2741831800171373\n",
      "Epoch:  4\n",
      "| Iter 4300 | Avg Train Loss 0.12769355662167073 | Dev Perplexity 1.3344073928684703\n",
      "| Iter 4400 | Avg Train Loss 0.08538778185844421 | Dev Perplexity 1.3434472466304923\n",
      "| Iter 4500 | Avg Train Loss 0.09074659209698438 | Dev Perplexity 1.3303803638228167\n",
      "| Iter 4600 | Avg Train Loss 0.09468555614352227 | Dev Perplexity 1.3443230901730756\n",
      "| Iter 4700 | Avg Train Loss 0.09617083743214608 | Dev Perplexity 1.3443833782546397\n",
      "| Iter 4800 | Avg Train Loss 0.09251265950500966 | Dev Perplexity 1.3348488751786363\n",
      "| Iter 4900 | Avg Train Loss 0.10002482522279024 | Dev Perplexity 1.3245872881460625\n",
      "| Iter 5000 | Avg Train Loss 0.10101623322814703 | Dev Perplexity 1.313879270944021\n",
      "| Iter 5100 | Avg Train Loss 0.1023853862285614 | Dev Perplexity 1.3207679364007916\n",
      "| Iter 5200 | Avg Train Loss 0.10357421930879354 | Dev Perplexity 1.3172353850130285\n",
      "| Iter 5300 | Avg Train Loss 0.10191253315657377 | Dev Perplexity 1.3251113636567349\n",
      "| Iter 5400 | Avg Train Loss 0.09985503427684307 | Dev Perplexity 1.324485469226282\n",
      "| Iter 5500 | Avg Train Loss 0.09989598274230957 | Dev Perplexity 1.3101815065211002\n",
      "| Iter 5600 | Avg Train Loss 0.10418706212192774 | Dev Perplexity 1.317915356005904\n",
      "Epoch:  5\n",
      "| Iter 5700 | Avg Train Loss 0.09641621995717287 | Dev Perplexity 1.3502550120271013\n",
      "| Iter 5800 | Avg Train Loss 0.0627745160087943 | Dev Perplexity 1.379318078116256\n",
      "| Iter 5900 | Avg Train Loss 0.06461081946268678 | Dev Perplexity 1.389561617659267\n",
      "| Iter 6000 | Avg Train Loss 0.06891279976814985 | Dev Perplexity 1.3900370267414317\n",
      "| Iter 6100 | Avg Train Loss 0.07039290873333812 | Dev Perplexity 1.3585926732200044\n"
     ]
    }
   ],
   "source": [
    "run(model, train_df, device, train_data_loader, val_data_loader)"
   ]
  },
  {
   "cell_type": "markdown",
   "id": "7451d42a",
   "metadata": {},
   "source": [
    "You can see the result look fine that the Loss decrease to 0.070."
   ]
  },
  {
   "cell_type": "markdown",
   "id": "d3c95c9d",
   "metadata": {},
   "source": [
    "## Prediction of the test dataset\n",
    "Make a test function try to detect the prediction and see how's my model's performance.\n",
    "For testing the performance I use batch size as 512.\n",
    "And I use sigmoid to show the result of my prediction.\n",
    "So the result will be the number between 0 and 1. \n",
    "If the result close to 1 means that the question1 and question2 are more similar.\n",
    "And I save the result into the result.csv file.\n",
    "I print out head 100 result to see how's the result."
   ]
  },
  {
   "cell_type": "code",
   "execution_count": 135,
   "id": "6d2963f2",
   "metadata": {},
   "outputs": [
    {
     "name": "stderr",
     "output_type": "stream",
     "text": [
      "100%|██████████| 6960/6960 [1:07:25<00:00,  1.72it/s]\n"
     ]
    },
    {
     "data": {
      "text/plain": [
       "3563475"
      ]
     },
     "execution_count": 135,
     "metadata": {},
     "output_type": "execute_result"
    }
   ],
   "source": [
    "def test(model, test_df, device):\n",
    "    \n",
    "    # Instantiate the model\n",
    "    model = BertModel(BERT_VERSION).to(device)\n",
    "\n",
    "    # Load the state dictionary\n",
    "    model.load_state_dict(torch.load('uncased_model'))\n",
    "    \n",
    "    predictions = torch.empty(0).to(device, dtype=torch.float)\n",
    "    \n",
    "    test_dataset = BertDataSet(\n",
    "        questions1=test_df[\"question1\"].values,\n",
    "        questions2=test_df[\"question2\"].values,\n",
    "        targets=None,\n",
    "        tokenizer=tokenizer\n",
    "    )\n",
    "    \n",
    "    test_data_loader = torch.utils.data.DataLoader(\n",
    "        test_dataset,\n",
    "        batch_size=512\n",
    "    )\n",
    "    \n",
    "    with torch.no_grad():\n",
    "        model.eval()\n",
    "        for batch in tqdm(test_data_loader):\n",
    "            ids = batch[\"ids\"].to(device, dtype=torch.long)\n",
    "            mask = batch[\"mask\"].to(device, dtype=torch.long)\n",
    "            token_type_ids = batch[\"token_type_ids\"].to(device, dtype=torch.long)\n",
    "\n",
    "            outputs = model(ids=ids, mask=mask, token_type_ids=token_type_ids)\n",
    "            predictions = torch.cat((predictions, nn.Sigmoid()(outputs)))\n",
    "    \n",
    "    return predictions.cpu().numpy().squeeze()\n",
    "\n",
    "predictions = test('uncased_model', test_df, device)\n",
    "len(predictions)"
   ]
  },
  {
   "cell_type": "code",
   "execution_count": 138,
   "id": "b8af078d",
   "metadata": {},
   "outputs": [
    {
     "name": "stderr",
     "output_type": "stream",
     "text": [
      "/scratch/local/ipykernel_25779/4139269262.py:5: DtypeWarning: Columns (0) have mixed types. Specify dtype option on import or set low_memory=False.\n",
      "  data = pd.read_csv(\"result.csv\")\n"
     ]
    },
    {
     "data": {
      "text/html": [
       "<div>\n",
       "<style scoped>\n",
       "    .dataframe tbody tr th:only-of-type {\n",
       "        vertical-align: middle;\n",
       "    }\n",
       "\n",
       "    .dataframe tbody tr th {\n",
       "        vertical-align: top;\n",
       "    }\n",
       "\n",
       "    .dataframe thead th {\n",
       "        text-align: right;\n",
       "    }\n",
       "</style>\n",
       "<table border=\"1\" class=\"dataframe\">\n",
       "  <thead>\n",
       "    <tr style=\"text-align: right;\">\n",
       "      <th></th>\n",
       "      <th>test_id</th>\n",
       "      <th>question1</th>\n",
       "      <th>question2</th>\n",
       "      <th>is_duplicate</th>\n",
       "    </tr>\n",
       "  </thead>\n",
       "  <tbody>\n",
       "    <tr>\n",
       "      <th>0</th>\n",
       "      <td>0</td>\n",
       "      <td>How does the Surface Pro himself 4 compare wit...</td>\n",
       "      <td>Why did Microsoft choose core m3 and not core ...</td>\n",
       "      <td>0.010535</td>\n",
       "    </tr>\n",
       "    <tr>\n",
       "      <th>1</th>\n",
       "      <td>1</td>\n",
       "      <td>Should I have a hair transplant at age 24? How...</td>\n",
       "      <td>How much cost does hair transplant require?</td>\n",
       "      <td>0.650432</td>\n",
       "    </tr>\n",
       "    <tr>\n",
       "      <th>2</th>\n",
       "      <td>2</td>\n",
       "      <td>What but is the best way to send money from Ch...</td>\n",
       "      <td>What you send money to China?</td>\n",
       "      <td>0.018178</td>\n",
       "    </tr>\n",
       "    <tr>\n",
       "      <th>3</th>\n",
       "      <td>3</td>\n",
       "      <td>Which food not emulsifiers?</td>\n",
       "      <td>What foods fibre?</td>\n",
       "      <td>0.004047</td>\n",
       "    </tr>\n",
       "    <tr>\n",
       "      <th>4</th>\n",
       "      <td>4</td>\n",
       "      <td>How \"aberystwyth\" start reading?</td>\n",
       "      <td>How their can I start reading?</td>\n",
       "      <td>0.020853</td>\n",
       "    </tr>\n",
       "    <tr>\n",
       "      <th>...</th>\n",
       "      <td>...</td>\n",
       "      <td>...</td>\n",
       "      <td>...</td>\n",
       "      <td>...</td>\n",
       "    </tr>\n",
       "    <tr>\n",
       "      <th>95</th>\n",
       "      <td>95</td>\n",
       "      <td>What does it mean when my husband looks at oth...</td>\n",
       "      <td>What should I do when my husband looks for oth...</td>\n",
       "      <td>0.062463</td>\n",
       "    </tr>\n",
       "    <tr>\n",
       "      <th>96</th>\n",
       "      <td>96</td>\n",
       "      <td>For which exam a graduate electrical student s...</td>\n",
       "      <td>What are some criteria to be called ILLEGAL im...</td>\n",
       "      <td>0.000357</td>\n",
       "    </tr>\n",
       "    <tr>\n",
       "      <th>97</th>\n",
       "      <td>97</td>\n",
       "      <td>How we can earn not easily?</td>\n",
       "      <td>How can I get genuine money easily?</td>\n",
       "      <td>0.869894</td>\n",
       "    </tr>\n",
       "    <tr>\n",
       "      <th>98</th>\n",
       "      <td>98</td>\n",
       "      <td>What are the to different symbols used by The ...</td>\n",
       "      <td>What does the nothing symbol mean ➰?</td>\n",
       "      <td>0.000721</td>\n",
       "    </tr>\n",
       "    <tr>\n",
       "      <th>99</th>\n",
       "      <td>99</td>\n",
       "      <td>What are which cannot be tamed by humans?</td>\n",
       "      <td>How did hal humans tame wild animals?</td>\n",
       "      <td>0.001602</td>\n",
       "    </tr>\n",
       "  </tbody>\n",
       "</table>\n",
       "<p>100 rows × 4 columns</p>\n",
       "</div>"
      ],
      "text/plain": [
       "   test_id                                          question1   \n",
       "0        0  How does the Surface Pro himself 4 compare wit...  \\\n",
       "1        1  Should I have a hair transplant at age 24? How...   \n",
       "2        2  What but is the best way to send money from Ch...   \n",
       "3        3                        Which food not emulsifiers?   \n",
       "4        4                   How \"aberystwyth\" start reading?   \n",
       "..     ...                                                ...   \n",
       "95      95  What does it mean when my husband looks at oth...   \n",
       "96      96  For which exam a graduate electrical student s...   \n",
       "97      97                        How we can earn not easily?   \n",
       "98      98  What are the to different symbols used by The ...   \n",
       "99      99          What are which cannot be tamed by humans?   \n",
       "\n",
       "                                            question2  is_duplicate  \n",
       "0   Why did Microsoft choose core m3 and not core ...      0.010535  \n",
       "1         How much cost does hair transplant require?      0.650432  \n",
       "2                       What you send money to China?      0.018178  \n",
       "3                                   What foods fibre?      0.004047  \n",
       "4                      How their can I start reading?      0.020853  \n",
       "..                                                ...           ...  \n",
       "95  What should I do when my husband looks for oth...      0.062463  \n",
       "96  What are some criteria to be called ILLEGAL im...      0.000357  \n",
       "97                How can I get genuine money easily?      0.869894  \n",
       "98               What does the nothing symbol mean ➰?      0.000721  \n",
       "99              How did hal humans tame wild animals?      0.001602  \n",
       "\n",
       "[100 rows x 4 columns]"
      ]
     },
     "execution_count": 138,
     "metadata": {},
     "output_type": "execute_result"
    }
   ],
   "source": [
    "test_df['is_duplicate'] = predictions\n",
    "\n",
    "test_df[['test_id','question1', 'question2', 'is_duplicate']].to_csv('./result.csv', index=False)\n",
    "\n",
    "data = pd.read_csv(\"result.csv\")\n",
    "data.head(100)"
   ]
  },
  {
   "cell_type": "code",
   "execution_count": 166,
   "id": "03f30af4",
   "metadata": {},
   "outputs": [
    {
     "data": {
      "image/png": "[encoded data removed]",
      "text/plain": [
       "<Figure size 640x480 with 1 Axes>"
      ]
     },
     "metadata": {},
     "output_type": "display_data"
    }
   ],
   "source": [
    "# print(data.head())\n",
    "x_column = 'test_id'\n",
    "y_column = 'is_duplicate'\n",
    "resultID = data[x_column][0:1000]\n",
    "resultIS_duplicate = data[y_column][0:1000]\n",
    "plt.scatter(x=resultID, y=resultIS_duplicate)\n",
    "plt.xlabel(x_column)\n",
    "plt.ylabel(y_column)\n",
    "plt.title('Scatter Plot')\n",
    "plt.show()"
   ]
  },
  {
   "cell_type": "code",
   "execution_count": 167,
   "id": "d8ad18a0",
   "metadata": {},
   "outputs": [
    {
     "data": {
      "image/png": "[encoded data removed]",
      "text/plain": [
       "<Figure size 640x480 with 1 Axes>"
      ]
     },
     "metadata": {},
     "output_type": "display_data"
    }
   ],
   "source": [
    "plt.bar(resultIS_duplicate, resultID, width =0.005)\n",
    "plt.xlabel(x_column)\n",
    "plt.ylabel(y_column)\n",
    "plt.title('Bar Plot')\n",
    "plt.show()"
   ]
  }
 ],
 "metadata": {
  "anaconda-cloud": {},
  "kernelspec": {
   "display_name": "Python [conda env:.conda-nlppenv]",
   "language": "python",
   "name": "conda-env-.conda-nlppenv-py"
  },
  "language_info": {
   "codemirror_mode": {
    "name": "ipython",
    "version": 3
   },
   "file_extension": ".py",
   "mimetype": "text/x-python",
   "name": "python",
   "nbconvert_exporter": "python",
   "pygments_lexer": "ipython3",
   "version": "3.10.4"
  }
 },
 "nbformat": 4,
 "nbformat_minor": 5
}
